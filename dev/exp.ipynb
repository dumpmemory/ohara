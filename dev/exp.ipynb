{
 "cells": [
  {
   "cell_type": "code",
   "execution_count": 1,
   "metadata": {},
   "outputs": [
    {
     "name": "stderr",
     "output_type": "stream",
     "text": [
      "/Users/schoudhari/miniforge3/lib/python3.10/site-packages/tqdm/auto.py:21: TqdmWarning: IProgress not found. Please update jupyter and ipywidgets. See https://ipywidgets.readthedocs.io/en/stable/user_install.html\n",
      "  from .autonotebook import tqdm as notebook_tqdm\n"
     ]
    }
   ],
   "source": [
    "import lightning as L\n",
    "from huggingface_hub import PyTorchModelHubMixin\n",
    "from transformers import AutoModel\n",
    "import ohara.models.phi as phi\n",
    "import torch"
   ]
  },
  {
   "cell_type": "code",
   "execution_count": 3,
   "metadata": {},
   "outputs": [
    {
     "name": "stderr",
     "output_type": "stream",
     "text": [
      "config.json: 100%|██████████| 863/863 [00:00<00:00, 3.19MB/s]\n",
      "model.safetensors.index.json: 100%|██████████| 35.7k/35.7k [00:00<00:00, 178kB/s]\n",
      "model-00001-of-00002.safetensors: 100%|██████████| 5.00G/5.00G [08:04<00:00, 10.3MB/s]\n",
      "model-00002-of-00002.safetensors: 100%|██████████| 564M/564M [00:54<00:00, 10.4MB/s]\n",
      "Downloading shards: 100%|██████████| 2/2 [09:00<00:00, 270.21s/it]\n",
      "Loading checkpoint shards: 100%|██████████| 2/2 [00:00<00:00,  3.35it/s]\n"
     ]
    }
   ],
   "source": [
    "with torch.device(\"meta\"):\n",
    "        model_name=\"microsoft/phi-2\"\n",
    "        cfg = phi.PhiConfig()\n",
    "        model = phi.Phi(cfg)\n",
    "        hf_model = AutoModel.from_pretrained(model_name)\n",
    "        hf_model\n",
    "        mask = torch.full((1, 1, cfg.seq_len, cfg.seq_len), float(\"-inf\"))"
   ]
  },
  {
   "cell_type": "code",
   "execution_count": null,
   "metadata": {},
   "outputs": [],
   "source": []
  }
 ],
 "metadata": {
  "kernelspec": {
   "display_name": "base",
   "language": "python",
   "name": "python3"
  },
  "language_info": {
   "codemirror_mode": {
    "name": "ipython",
    "version": 3
   },
   "file_extension": ".py",
   "mimetype": "text/x-python",
   "name": "python",
   "nbconvert_exporter": "python",
   "pygments_lexer": "ipython3",
   "version": "3.10.12"
  }
 },
 "nbformat": 4,
 "nbformat_minor": 2
}
